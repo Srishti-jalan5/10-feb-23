{
 "cells": [
  {
   "cell_type": "code",
   "execution_count": null,
   "id": "c8f4680a-ba5c-4607-babf-f0fb3bfc6f42",
   "metadata": {},
   "outputs": [],
   "source": [
    "#Q1\n",
    "f = open(\"file_name\",\"mode\") function is used to open a file.\n",
    "or\n",
    "with open(\"file_name\",'mode') as f:\n",
    "    f.read()\n",
    "\n",
    "#different modes are:\n",
    "r = open for reading.\n",
    "w = open for writting, truncating the file first.\n",
    "x = create a new file and open it in write mode.\n",
    "a = open for wriring , apending it to the end of file if its exists.\n",
    "b = binary mode\n",
    "t = text mode\n",
    "+ = open a disc file for updating(reading and writing).\n",
    "U = universal newline mode(desprecated)"
   ]
  },
  {
   "cell_type": "code",
   "execution_count": null,
   "id": "fb163c94-4214-4c45-8dd6-1016af4be082",
   "metadata": {},
   "outputs": [],
   "source": [
    "#Q2\n",
    "close() function is used to close an open file. \n",
    "we should always close a file because due to buffering or changes made\n",
    "in a file may not show until you close the file."
   ]
  },
  {
   "cell_type": "code",
   "execution_count": 6,
   "id": "a0887af9-65aa-4526-a6bf-164e2c48b02f",
   "metadata": {},
   "outputs": [],
   "source": [
    "#Q3\n",
    "f = open(\"data.txt\",'w')"
   ]
  },
  {
   "cell_type": "code",
   "execution_count": 7,
   "id": "9adfc524-22c4-4ad1-82ad-6945e580a99c",
   "metadata": {},
   "outputs": [
    {
     "data": {
      "text/plain": [
       "33"
      ]
     },
     "execution_count": 7,
     "metadata": {},
     "output_type": "execute_result"
    }
   ],
   "source": [
    "f.write(\"I want to become a Data Scientist\")"
   ]
  },
  {
   "cell_type": "code",
   "execution_count": 8,
   "id": "8761ab24-ae0a-4cb6-81b7-f572e7c4f8aa",
   "metadata": {},
   "outputs": [],
   "source": [
    "f.close()"
   ]
  },
  {
   "cell_type": "code",
   "execution_count": 10,
   "id": "0da7c9fb-e7ef-4969-a44f-b208dc9b522f",
   "metadata": {},
   "outputs": [],
   "source": [
    "f = open(\"data.txt\",'r')"
   ]
  },
  {
   "cell_type": "code",
   "execution_count": 11,
   "id": "f058fd5c-37e7-4a9b-97dc-86e9d1a792c9",
   "metadata": {},
   "outputs": [
    {
     "data": {
      "text/plain": [
       "'I want to become a Data Scientist'"
      ]
     },
     "execution_count": 11,
     "metadata": {},
     "output_type": "execute_result"
    }
   ],
   "source": [
    "f.read()"
   ]
  },
  {
   "cell_type": "code",
   "execution_count": null,
   "id": "2e31b016-3a2f-4d26-9c04-26a2d0a77bd5",
   "metadata": {},
   "outputs": [],
   "source": [
    "#Q4\n",
    "read() function is used to return the file when called if exists.\n",
    "readline() method will return a line from the file when called.\n",
    "readlines() method will return all the lines in a file in the format of a list where each element is a line in the file."
   ]
  },
  {
   "cell_type": "code",
   "execution_count": null,
   "id": "c26978e5-3dc6-4399-9844-33a9bcfac2ca",
   "metadata": {},
   "outputs": [],
   "source": [
    "#Q5\n",
    "with open() is used to open a file.\n",
    "Advantage of using with statement and open() together is we dont have to call close() method,\n",
    "it automatically closes the file."
   ]
  },
  {
   "cell_type": "code",
   "execution_count": null,
   "id": "918fd433-65a9-4cb4-a11f-3b5a5df4ee11",
   "metadata": {},
   "outputs": [],
   "source": [
    "#Q6\n",
    "The write() method accepts a string as an argument and writes this string to the text file. Whereas, the \n",
    "writelines() method accepts an iterable i.e. a string or the list of strings as an argument and writes these strings to the text file."
   ]
  }
 ],
 "metadata": {
  "kernelspec": {
   "display_name": "Python 3 (ipykernel)",
   "language": "python",
   "name": "python3"
  },
  "language_info": {
   "codemirror_mode": {
    "name": "ipython",
    "version": 3
   },
   "file_extension": ".py",
   "mimetype": "text/x-python",
   "name": "python",
   "nbconvert_exporter": "python",
   "pygments_lexer": "ipython3",
   "version": "3.10.8"
  }
 },
 "nbformat": 4,
 "nbformat_minor": 5
}
